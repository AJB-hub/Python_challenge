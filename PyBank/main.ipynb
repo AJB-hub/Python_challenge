{
 "cells": [
  {
   "cell_type": "code",
   "execution_count": 1,
   "metadata": {},
   "outputs": [],
   "source": [
    "# Import Modules\n",
    "import os\n",
    "import csv\n",
    "from collections import OrderedDict\n",
    "from statistics import mean"
   ]
  },
  {
   "cell_type": "code",
   "execution_count": 2,
   "metadata": {},
   "outputs": [],
   "source": [
    "# Designate File Path\n",
    "path = \"./\"\n",
    "csv_path = os.path.join(path, \"Resources\", \"budget_data.csv\")"
   ]
  },
  {
   "cell_type": "code",
   "execution_count": 3,
   "metadata": {},
   "outputs": [],
   "source": [
    "# Initialize dictionary object\n",
    "dictBudget = OrderedDict()"
   ]
  },
  {
   "cell_type": "code",
   "execution_count": 4,
   "metadata": {},
   "outputs": [],
   "source": [
    "# Read and write CSV into dictionary\n",
    "with open(csv_path) as csvfile:\n",
    "    Budget = csv.reader(csvfile,delimiter=\",\")\n",
    "    next(Budget)   #skips the header row of csv file\n",
    "    for row in Budget:\n",
    "        date = str(row[0])\n",
    "        profit = int(row[1])\n",
    "        dictBudget[date] = profit"
   ]
  },
  {
   "cell_type": "code",
   "execution_count": 10,
   "metadata": {},
   "outputs": [
    {
     "name": "stdout",
     "output_type": "stream",
     "text": [
      "Total Months: 86\n"
     ]
    }
   ],
   "source": [
    "# Total number of months in data set\n",
    "monthCount = len(dictBudget.keys())\n",
    "outputMonths = f\"Total Months: {monthCount}\"\n",
    "print(outputMonths)"
   ]
  },
  {
   "cell_type": "code",
   "execution_count": 11,
   "metadata": {},
   "outputs": [
    {
     "name": "stdout",
     "output_type": "stream",
     "text": [
      "Total: $38,382,578\n"
     ]
    }
   ],
   "source": [
    "# Calculate the total profit of data set\n",
    "totalProfit = 0\n",
    "for month in dictBudget.keys():\n",
    "    totalProfit += dictBudget.get(month)\n",
    "\n",
    "\n",
    "outputProfit = f\"Total: ${totalProfit:,}\"   \n",
    "print(outputProfit)"
   ]
  },
  {
   "cell_type": "code",
   "execution_count": 12,
   "metadata": {},
   "outputs": [
    {
     "name": "stdout",
     "output_type": "stream",
     "text": [
      "Average Change: $-2315.12\n"
     ]
    }
   ],
   "source": [
    "# Calculate the changes in Profits for the entire period, \n",
    "# then the average of those changes\n",
    "changeProfit = [] #list of changes to profits from month to month\n",
    "monthData = {} #maps change in profits to months\n",
    "monthlyProfits = list(dictBudget.items()) #list of dictionary tuples from Budget\n",
    "\n",
    "for month in range(monthCount - 1):\n",
    "    difference = monthlyProfits[month + 1][1] - monthlyProfits[month][1]\n",
    "    changeProfit.append(difference)\n",
    "    monthData[difference] = monthlyProfits[month + 1][0]\n",
    "    \n",
    "averageChange = round(mean(changeProfit),2)\n",
    "outputChange = f\"Average Change: ${averageChange:}\"\n",
    "print(outputChange)"
   ]
  },
  {
   "cell_type": "code",
   "execution_count": 13,
   "metadata": {},
   "outputs": [
    {
     "name": "stdout",
     "output_type": "stream",
     "text": [
      "Greatest increase in profits: Feb-2012 $1,926,159\n"
     ]
    }
   ],
   "source": [
    "# The greatest increase in profits (date and amount) over the entire period\n",
    "outputInc = f\"Greatest increase in profits: {monthData[max(changeProfit)]} ${max(changeProfit):,}\"\n",
    "print(outputInc)"
   ]
  },
  {
   "cell_type": "code",
   "execution_count": 14,
   "metadata": {},
   "outputs": [
    {
     "name": "stdout",
     "output_type": "stream",
     "text": [
      "Greatest Decrease in profits: Sep-2013 $-2,196,167\n"
     ]
    }
   ],
   "source": [
    "# The greatest decrease in losses (date and amount) over the entire period\n",
    "outputDec = f\"Greatest Decrease in profits: {monthData[min(changeProfit)]} ${min(changeProfit):,}\"\n",
    "print(outputDec)"
   ]
  },
  {
   "cell_type": "code",
   "execution_count": 24,
   "metadata": {},
   "outputs": [],
   "source": [
    "# Output data analysis to text file in Analysis Folder\n",
    "output_path = os.path.join(\".\", \"Analysis\", \"Analysis.txt\")\n",
    "\n",
    "with open(output_path, 'w') as a_writer:\n",
    "    a_writer.write(outputMonths)\n",
    "    a_writer.write(\"\\n\"+outputProfit)\n",
    "    a_writer.write(\"\\n\"+outputChange)\n",
    "    a_writer.write(\"\\n\"+outputInc)\n",
    "    a_writer.write(\"\\n\"+outputDec)"
   ]
  },
  {
   "cell_type": "code",
   "execution_count": null,
   "metadata": {},
   "outputs": [],
   "source": []
  }
 ],
 "metadata": {
  "kernelspec": {
   "display_name": "Python 3.8.5 64-bit ('base': conda)",
   "language": "python",
   "name": "python385jvsc74a57bd059cb06171805d41928f37d28ce9f3d641f4e2542014011d7a8caa41ef1678543"
  },
  "language_info": {
   "codemirror_mode": {
    "name": "ipython",
    "version": 3
   },
   "file_extension": ".py",
   "mimetype": "text/x-python",
   "name": "python",
   "nbconvert_exporter": "python",
   "pygments_lexer": "ipython3",
   "version": "3.8.5"
  }
 },
 "nbformat": 4,
 "nbformat_minor": 4
}
