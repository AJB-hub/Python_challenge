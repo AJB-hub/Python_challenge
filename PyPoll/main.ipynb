{
 "cells": [
  {
   "cell_type": "code",
   "execution_count": 11,
   "metadata": {},
   "outputs": [],
   "source": [
    "# Import Modules\n",
    "import os\n",
    "import csv\n",
    "from collections import OrderedDict\n",
    "from collections import Counter"
   ]
  },
  {
   "cell_type": "code",
   "execution_count": 2,
   "metadata": {},
   "outputs": [],
   "source": [
    "# Designate File Path\n",
    "path = \"./\"\n",
    "csv_path = os.path.join(path, \"Resources\", \"election_data.csv\")"
   ]
  },
  {
   "cell_type": "code",
   "execution_count": 3,
   "metadata": {},
   "outputs": [],
   "source": [
    "#initialize dictionaries\n",
    "dictVotes = OrderedDict()"
   ]
  },
  {
   "cell_type": "code",
   "execution_count": 4,
   "metadata": {},
   "outputs": [],
   "source": [
    "# Read and write CSV into dictionary\n",
    "with open(csv_path) as csvfile:\n",
    "    election = csv.reader(csvfile,delimiter=\",\")\n",
    "    next(election)   #skips the header row of csv file\n",
    "    for row in election:\n",
    "        ID = str(row[0])\n",
    "        County = str(row[1])\n",
    "        Candidate = str(row[2])\n",
    "        dictVotes[ID] = [County,Candidate]"
   ]
  },
  {
   "cell_type": "code",
   "execution_count": 68,
   "metadata": {},
   "outputs": [
    {
     "name": "stdout",
     "output_type": "stream",
     "text": [
      "Election Results\n",
      "Total Votes: 3521001\n"
     ]
    }
   ],
   "source": [
    "# Count the number of votes cast\n",
    "outputVotes = len(dictVotes.keys())\n",
    "print(\"Election Results\")\n",
    "print(f'Total Votes: {outputVotes}')"
   ]
  },
  {
   "cell_type": "code",
   "execution_count": 65,
   "metadata": {},
   "outputs": [],
   "source": [
    "# List of candidates who received votes\n",
    "candidateList = []\n",
    "candidateAggregate = []\n",
    "candidateVotesList = list(dictVotes.items())\n",
    "\n",
    "for rows in range(outputVotes):\n",
    "    candidateName = candidateVotesList[rows][1][1]\n",
    "    candidateAggregate.append(candidateName)\n",
    "    if candidateName not in candidateList:\n",
    "        candidateList.append(candidateName)        "
   ]
  },
  {
   "cell_type": "code",
   "execution_count": 64,
   "metadata": {},
   "outputs": [
    {
     "name": "stdout",
     "output_type": "stream",
     "text": [
      "Khan: 63.0% (2218231) \n",
      "Correy: 20.0% (704200) \n",
      "Li: 14.0% (492940) \n",
      "O'Tooley: 3.0% (105630) \n"
     ]
    }
   ],
   "source": [
    "# The percentage of votes each candidate won\n",
    "candidateCount = Counter(candidateAggregate)\n",
    "candidatePercentDict = {}\n",
    "for names in candidateList:\n",
    "    candidatePercent = candidateCount[names] / outputVotes\n",
    "    candidatePercentDict[names] = candidatePercent\n",
    "    print(f'{names}: {round(candidatePercent*100,1)}% ({candidateCount[names]}) ')"
   ]
  },
  {
   "cell_type": "code",
   "execution_count": 54,
   "metadata": {},
   "outputs": [
    {
     "name": "stdout",
     "output_type": "stream",
     "text": [
      "Winner: Khan\n"
     ]
    }
   ],
   "source": [
    "# The winner of the election based on popular vote\n",
    "winnerName = \"none\"\n",
    "winnerPercent = 0\n",
    "for name in candidateList:\n",
    "    if candidatePercentDict[name] > winnerPercent:\n",
    "        winnerName = name\n",
    "        winnerPercent = candidatePercentDict[name]\n",
    "        \n",
    "print(f'Winner: {winnerName}')"
   ]
  },
  {
   "cell_type": "code",
   "execution_count": 75,
   "metadata": {},
   "outputs": [],
   "source": [
    "# Output data analysis to text file in Analysis Folder\n",
    "output_path = os.path.join(\".\", \"Analysis\", \"Analysis.txt\")\n",
    "\n",
    "with open(output_path, 'w') as a_writer:\n",
    "    a_writer.write(\"Election Results\"+\"\\n\")\n",
    "    a_writer.write(\"-------------------------\"+\"\\n\")\n",
    "    a_writer.write(f'Total Votes: {outputVotes}'+\"\\n\")\n",
    "    a_writer.write(\"-------------------------\"+\"\\n\")\n",
    "    for name in candidateList:\n",
    "        a_writer.write(f'{name}: {round(candidatePercentDict[name]*100,2)}% ({candidateCount[name]})'+\"\\n\")\n",
    "    a_writer.write(\"-------------------------\"+\"\\n\")\n",
    "    a_writer.write(f'Winner: {winnerName}'+\"\\n\")\n",
    "    a_writer.write(\"-------------------------\"+\"\\n\")\n"
   ]
  },
  {
   "cell_type": "code",
   "execution_count": null,
   "metadata": {},
   "outputs": [],
   "source": []
  }
 ],
 "metadata": {
  "kernelspec": {
   "display_name": "Python 3.8.5 64-bit ('base': conda)",
   "language": "python",
   "name": "python385jvsc74a57bd059cb06171805d41928f37d28ce9f3d641f4e2542014011d7a8caa41ef1678543"
  },
  "language_info": {
   "codemirror_mode": {
    "name": "ipython",
    "version": 3
   },
   "file_extension": ".py",
   "mimetype": "text/x-python",
   "name": "python",
   "nbconvert_exporter": "python",
   "pygments_lexer": "ipython3",
   "version": "3.8.5"
  }
 },
 "nbformat": 4,
 "nbformat_minor": 4
}
